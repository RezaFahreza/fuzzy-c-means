{
 "cells": [
  {
   "cell_type": "markdown",
   "id": "408d5f58",
   "metadata": {
    "papermill": {
     "duration": 0.004343,
     "end_time": "2024-12-16T14:21:04.621690",
     "exception": false,
     "start_time": "2024-12-16T14:21:04.617347",
     "status": "completed"
    },
    "tags": []
   },
   "source": [
    "## Configuration Setting & Library"
   ]
  },
  {
   "cell_type": "code",
   "execution_count": 1,
   "id": "c030ae2b",
   "metadata": {
    "_cell_guid": "b1076dfc-b9ad-4769-8c92-a6c4dae69d19",
    "_uuid": "8f2839f25d086af736a60e9eeb907d3b93b6e0e5",
    "execution": {
     "iopub.execute_input": "2024-12-16T14:21:04.630225Z",
     "iopub.status.busy": "2024-12-16T14:21:04.629942Z",
     "iopub.status.idle": "2024-12-16T14:21:14.247735Z",
     "shell.execute_reply": "2024-12-16T14:21:14.246867Z"
    },
    "papermill": {
     "duration": 9.624227,
     "end_time": "2024-12-16T14:21:14.249837",
     "exception": false,
     "start_time": "2024-12-16T14:21:04.625610",
     "status": "completed"
    },
    "tags": []
   },
   "outputs": [
    {
     "name": "stdout",
     "output_type": "stream",
     "text": [
      "Collecting scikit-fuzzy\r\n",
      "  Downloading scikit_fuzzy-0.5.0-py2.py3-none-any.whl.metadata (2.6 kB)\r\n",
      "Downloading scikit_fuzzy-0.5.0-py2.py3-none-any.whl (920 kB)\r\n",
      "\u001b[2K   \u001b[90m━━━━━━━━━━━━━━━━━━━━━━━━━━━━━━━━━━━━━━━━\u001b[0m \u001b[32m920.8/920.8 kB\u001b[0m \u001b[31m13.8 MB/s\u001b[0m eta \u001b[36m0:00:00\u001b[0m\r\n",
      "\u001b[?25hInstalling collected packages: scikit-fuzzy\r\n",
      "Successfully installed scikit-fuzzy-0.5.0\r\n"
     ]
    }
   ],
   "source": [
    "!pip install scikit-fuzzy --upgrade"
   ]
  },
  {
   "cell_type": "code",
   "execution_count": 2,
   "id": "768f6138",
   "metadata": {
    "execution": {
     "iopub.execute_input": "2024-12-16T14:21:14.260343Z",
     "iopub.status.busy": "2024-12-16T14:21:14.260062Z",
     "iopub.status.idle": "2024-12-16T14:21:15.971231Z",
     "shell.execute_reply": "2024-12-16T14:21:15.970354Z"
    },
    "papermill": {
     "duration": 1.718157,
     "end_time": "2024-12-16T14:21:15.973307",
     "exception": false,
     "start_time": "2024-12-16T14:21:14.255150",
     "status": "completed"
    },
    "tags": []
   },
   "outputs": [],
   "source": [
    "import pandas as pd\n",
    "from sklearn.preprocessing import MinMaxScaler\n",
    "from sklearn.decomposition import PCA\n",
    "import matplotlib.pyplot as plt\n",
    "import skfuzzy\n",
    "import numpy as np"
   ]
  },
  {
   "cell_type": "markdown",
   "id": "b00cabed",
   "metadata": {
    "papermill": {
     "duration": 0.003865,
     "end_time": "2024-12-16T14:21:15.981640",
     "exception": false,
     "start_time": "2024-12-16T14:21:15.977775",
     "status": "completed"
    },
    "tags": []
   },
   "source": [
    "## Loading Data"
   ]
  },
  {
   "cell_type": "code",
   "execution_count": 3,
   "id": "3392fc80",
   "metadata": {
    "execution": {
     "iopub.execute_input": "2024-12-16T14:21:15.990499Z",
     "iopub.status.busy": "2024-12-16T14:21:15.990013Z",
     "iopub.status.idle": "2024-12-16T14:21:16.015806Z",
     "shell.execute_reply": "2024-12-16T14:21:16.014911Z"
    },
    "papermill": {
     "duration": 0.03199,
     "end_time": "2024-12-16T14:21:16.017395",
     "exception": false,
     "start_time": "2024-12-16T14:21:15.985405",
     "status": "completed"
    },
    "tags": []
   },
   "outputs": [
    {
     "data": {
      "text/html": [
       "<div>\n",
       "<style scoped>\n",
       "    .dataframe tbody tr th:only-of-type {\n",
       "        vertical-align: middle;\n",
       "    }\n",
       "\n",
       "    .dataframe tbody tr th {\n",
       "        vertical-align: top;\n",
       "    }\n",
       "\n",
       "    .dataframe thead th {\n",
       "        text-align: right;\n",
       "    }\n",
       "</style>\n",
       "<table border=\"1\" class=\"dataframe\">\n",
       "  <thead>\n",
       "    <tr style=\"text-align: right;\">\n",
       "      <th></th>\n",
       "      <th>Sl_No</th>\n",
       "      <th>Customer Key</th>\n",
       "      <th>Avg_Credit_Limit</th>\n",
       "      <th>Total_Credit_Cards</th>\n",
       "      <th>Total_visits_bank</th>\n",
       "      <th>Total_visits_online</th>\n",
       "      <th>Total_calls_made</th>\n",
       "    </tr>\n",
       "  </thead>\n",
       "  <tbody>\n",
       "    <tr>\n",
       "      <th>0</th>\n",
       "      <td>1</td>\n",
       "      <td>87073</td>\n",
       "      <td>100000</td>\n",
       "      <td>2</td>\n",
       "      <td>1</td>\n",
       "      <td>1</td>\n",
       "      <td>0</td>\n",
       "    </tr>\n",
       "    <tr>\n",
       "      <th>1</th>\n",
       "      <td>2</td>\n",
       "      <td>38414</td>\n",
       "      <td>50000</td>\n",
       "      <td>3</td>\n",
       "      <td>0</td>\n",
       "      <td>10</td>\n",
       "      <td>9</td>\n",
       "    </tr>\n",
       "    <tr>\n",
       "      <th>2</th>\n",
       "      <td>3</td>\n",
       "      <td>17341</td>\n",
       "      <td>50000</td>\n",
       "      <td>7</td>\n",
       "      <td>1</td>\n",
       "      <td>3</td>\n",
       "      <td>4</td>\n",
       "    </tr>\n",
       "    <tr>\n",
       "      <th>3</th>\n",
       "      <td>4</td>\n",
       "      <td>40496</td>\n",
       "      <td>30000</td>\n",
       "      <td>5</td>\n",
       "      <td>1</td>\n",
       "      <td>1</td>\n",
       "      <td>4</td>\n",
       "    </tr>\n",
       "    <tr>\n",
       "      <th>4</th>\n",
       "      <td>5</td>\n",
       "      <td>47437</td>\n",
       "      <td>100000</td>\n",
       "      <td>6</td>\n",
       "      <td>0</td>\n",
       "      <td>12</td>\n",
       "      <td>3</td>\n",
       "    </tr>\n",
       "  </tbody>\n",
       "</table>\n",
       "</div>"
      ],
      "text/plain": [
       "   Sl_No  Customer Key  Avg_Credit_Limit  Total_Credit_Cards  \\\n",
       "0      1         87073            100000                   2   \n",
       "1      2         38414             50000                   3   \n",
       "2      3         17341             50000                   7   \n",
       "3      4         40496             30000                   5   \n",
       "4      5         47437            100000                   6   \n",
       "\n",
       "   Total_visits_bank  Total_visits_online  Total_calls_made  \n",
       "0                  1                    1                 0  \n",
       "1                  0                   10                 9  \n",
       "2                  1                    3                 4  \n",
       "3                  1                    1                 4  \n",
       "4                  0                   12                 3  "
      ]
     },
     "execution_count": 3,
     "metadata": {},
     "output_type": "execute_result"
    }
   ],
   "source": [
    "data = pd.read_csv('/kaggle/input/credit-card-customer-data/Credit Card Customer Data.csv')\n",
    "data.head()"
   ]
  },
  {
   "cell_type": "markdown",
   "id": "863b8993",
   "metadata": {
    "papermill": {
     "duration": 0.003591,
     "end_time": "2024-12-16T14:21:16.024940",
     "exception": false,
     "start_time": "2024-12-16T14:21:16.021349",
     "status": "completed"
    },
    "tags": []
   },
   "source": [
    "## Data Understanding"
   ]
  },
  {
   "cell_type": "code",
   "execution_count": 4,
   "id": "0e500095",
   "metadata": {
    "execution": {
     "iopub.execute_input": "2024-12-16T14:21:16.034821Z",
     "iopub.status.busy": "2024-12-16T14:21:16.034569Z",
     "iopub.status.idle": "2024-12-16T14:21:16.061714Z",
     "shell.execute_reply": "2024-12-16T14:21:16.060784Z"
    },
    "papermill": {
     "duration": 0.033259,
     "end_time": "2024-12-16T14:21:16.063269",
     "exception": false,
     "start_time": "2024-12-16T14:21:16.030010",
     "status": "completed"
    },
    "tags": []
   },
   "outputs": [
    {
     "data": {
      "text/html": [
       "<div>\n",
       "<style scoped>\n",
       "    .dataframe tbody tr th:only-of-type {\n",
       "        vertical-align: middle;\n",
       "    }\n",
       "\n",
       "    .dataframe tbody tr th {\n",
       "        vertical-align: top;\n",
       "    }\n",
       "\n",
       "    .dataframe thead th {\n",
       "        text-align: right;\n",
       "    }\n",
       "</style>\n",
       "<table border=\"1\" class=\"dataframe\">\n",
       "  <thead>\n",
       "    <tr style=\"text-align: right;\">\n",
       "      <th></th>\n",
       "      <th>Sl_No</th>\n",
       "      <th>Customer Key</th>\n",
       "      <th>Avg_Credit_Limit</th>\n",
       "      <th>Total_Credit_Cards</th>\n",
       "      <th>Total_visits_bank</th>\n",
       "      <th>Total_visits_online</th>\n",
       "      <th>Total_calls_made</th>\n",
       "    </tr>\n",
       "  </thead>\n",
       "  <tbody>\n",
       "    <tr>\n",
       "      <th>count</th>\n",
       "      <td>660.000000</td>\n",
       "      <td>660.000000</td>\n",
       "      <td>660.000000</td>\n",
       "      <td>660.000000</td>\n",
       "      <td>660.000000</td>\n",
       "      <td>660.000000</td>\n",
       "      <td>660.000000</td>\n",
       "    </tr>\n",
       "    <tr>\n",
       "      <th>mean</th>\n",
       "      <td>330.500000</td>\n",
       "      <td>55141.443939</td>\n",
       "      <td>34574.242424</td>\n",
       "      <td>4.706061</td>\n",
       "      <td>2.403030</td>\n",
       "      <td>2.606061</td>\n",
       "      <td>3.583333</td>\n",
       "    </tr>\n",
       "    <tr>\n",
       "      <th>std</th>\n",
       "      <td>190.669872</td>\n",
       "      <td>25627.772200</td>\n",
       "      <td>37625.487804</td>\n",
       "      <td>2.167835</td>\n",
       "      <td>1.631813</td>\n",
       "      <td>2.935724</td>\n",
       "      <td>2.865317</td>\n",
       "    </tr>\n",
       "    <tr>\n",
       "      <th>min</th>\n",
       "      <td>1.000000</td>\n",
       "      <td>11265.000000</td>\n",
       "      <td>3000.000000</td>\n",
       "      <td>1.000000</td>\n",
       "      <td>0.000000</td>\n",
       "      <td>0.000000</td>\n",
       "      <td>0.000000</td>\n",
       "    </tr>\n",
       "    <tr>\n",
       "      <th>25%</th>\n",
       "      <td>165.750000</td>\n",
       "      <td>33825.250000</td>\n",
       "      <td>10000.000000</td>\n",
       "      <td>3.000000</td>\n",
       "      <td>1.000000</td>\n",
       "      <td>1.000000</td>\n",
       "      <td>1.000000</td>\n",
       "    </tr>\n",
       "    <tr>\n",
       "      <th>50%</th>\n",
       "      <td>330.500000</td>\n",
       "      <td>53874.500000</td>\n",
       "      <td>18000.000000</td>\n",
       "      <td>5.000000</td>\n",
       "      <td>2.000000</td>\n",
       "      <td>2.000000</td>\n",
       "      <td>3.000000</td>\n",
       "    </tr>\n",
       "    <tr>\n",
       "      <th>75%</th>\n",
       "      <td>495.250000</td>\n",
       "      <td>77202.500000</td>\n",
       "      <td>48000.000000</td>\n",
       "      <td>6.000000</td>\n",
       "      <td>4.000000</td>\n",
       "      <td>4.000000</td>\n",
       "      <td>5.000000</td>\n",
       "    </tr>\n",
       "    <tr>\n",
       "      <th>max</th>\n",
       "      <td>660.000000</td>\n",
       "      <td>99843.000000</td>\n",
       "      <td>200000.000000</td>\n",
       "      <td>10.000000</td>\n",
       "      <td>5.000000</td>\n",
       "      <td>15.000000</td>\n",
       "      <td>10.000000</td>\n",
       "    </tr>\n",
       "  </tbody>\n",
       "</table>\n",
       "</div>"
      ],
      "text/plain": [
       "            Sl_No  Customer Key  Avg_Credit_Limit  Total_Credit_Cards  \\\n",
       "count  660.000000    660.000000        660.000000          660.000000   \n",
       "mean   330.500000  55141.443939      34574.242424            4.706061   \n",
       "std    190.669872  25627.772200      37625.487804            2.167835   \n",
       "min      1.000000  11265.000000       3000.000000            1.000000   \n",
       "25%    165.750000  33825.250000      10000.000000            3.000000   \n",
       "50%    330.500000  53874.500000      18000.000000            5.000000   \n",
       "75%    495.250000  77202.500000      48000.000000            6.000000   \n",
       "max    660.000000  99843.000000     200000.000000           10.000000   \n",
       "\n",
       "       Total_visits_bank  Total_visits_online  Total_calls_made  \n",
       "count         660.000000           660.000000        660.000000  \n",
       "mean            2.403030             2.606061          3.583333  \n",
       "std             1.631813             2.935724          2.865317  \n",
       "min             0.000000             0.000000          0.000000  \n",
       "25%             1.000000             1.000000          1.000000  \n",
       "50%             2.000000             2.000000          3.000000  \n",
       "75%             4.000000             4.000000          5.000000  \n",
       "max             5.000000            15.000000         10.000000  "
      ]
     },
     "execution_count": 4,
     "metadata": {},
     "output_type": "execute_result"
    }
   ],
   "source": [
    "data.describe()"
   ]
  },
  {
   "cell_type": "code",
   "execution_count": 5,
   "id": "c49614d9",
   "metadata": {
    "execution": {
     "iopub.execute_input": "2024-12-16T14:21:16.072406Z",
     "iopub.status.busy": "2024-12-16T14:21:16.072127Z",
     "iopub.status.idle": "2024-12-16T14:21:16.089394Z",
     "shell.execute_reply": "2024-12-16T14:21:16.088505Z"
    },
    "papermill": {
     "duration": 0.023554,
     "end_time": "2024-12-16T14:21:16.090914",
     "exception": false,
     "start_time": "2024-12-16T14:21:16.067360",
     "status": "completed"
    },
    "tags": []
   },
   "outputs": [
    {
     "name": "stdout",
     "output_type": "stream",
     "text": [
      "<class 'pandas.core.frame.DataFrame'>\n",
      "RangeIndex: 660 entries, 0 to 659\n",
      "Data columns (total 7 columns):\n",
      " #   Column               Non-Null Count  Dtype\n",
      "---  ------               --------------  -----\n",
      " 0   Sl_No                660 non-null    int64\n",
      " 1   Customer Key         660 non-null    int64\n",
      " 2   Avg_Credit_Limit     660 non-null    int64\n",
      " 3   Total_Credit_Cards   660 non-null    int64\n",
      " 4   Total_visits_bank    660 non-null    int64\n",
      " 5   Total_visits_online  660 non-null    int64\n",
      " 6   Total_calls_made     660 non-null    int64\n",
      "dtypes: int64(7)\n",
      "memory usage: 36.2 KB\n"
     ]
    }
   ],
   "source": [
    "data.info()"
   ]
  },
  {
   "cell_type": "code",
   "execution_count": 6,
   "id": "1e871602",
   "metadata": {
    "execution": {
     "iopub.execute_input": "2024-12-16T14:21:16.100171Z",
     "iopub.status.busy": "2024-12-16T14:21:16.099929Z",
     "iopub.status.idle": "2024-12-16T14:21:16.105806Z",
     "shell.execute_reply": "2024-12-16T14:21:16.105034Z"
    },
    "papermill": {
     "duration": 0.012308,
     "end_time": "2024-12-16T14:21:16.107427",
     "exception": false,
     "start_time": "2024-12-16T14:21:16.095119",
     "status": "completed"
    },
    "tags": []
   },
   "outputs": [
    {
     "data": {
      "text/plain": [
       "Sl_No                  0\n",
       "Customer Key           0\n",
       "Avg_Credit_Limit       0\n",
       "Total_Credit_Cards     0\n",
       "Total_visits_bank      0\n",
       "Total_visits_online    0\n",
       "Total_calls_made       0\n",
       "dtype: int64"
      ]
     },
     "execution_count": 6,
     "metadata": {},
     "output_type": "execute_result"
    }
   ],
   "source": [
    "data.isnull().sum()"
   ]
  },
  {
   "cell_type": "markdown",
   "id": "cb3f6532",
   "metadata": {
    "papermill": {
     "duration": 0.004258,
     "end_time": "2024-12-16T14:21:16.116389",
     "exception": false,
     "start_time": "2024-12-16T14:21:16.112131",
     "status": "completed"
    },
    "tags": []
   },
   "source": [
    "## Data Preprocessing & Features Engineering"
   ]
  },
  {
   "cell_type": "code",
   "execution_count": 7,
   "id": "89f3c11d",
   "metadata": {
    "execution": {
     "iopub.execute_input": "2024-12-16T14:21:16.125609Z",
     "iopub.status.busy": "2024-12-16T14:21:16.125364Z",
     "iopub.status.idle": "2024-12-16T14:21:16.128794Z",
     "shell.execute_reply": "2024-12-16T14:21:16.128075Z"
    },
    "papermill": {
     "duration": 0.009849,
     "end_time": "2024-12-16T14:21:16.130346",
     "exception": false,
     "start_time": "2024-12-16T14:21:16.120497",
     "status": "completed"
    },
    "tags": []
   },
   "outputs": [],
   "source": [
    "df = data.copy()"
   ]
  },
  {
   "cell_type": "code",
   "execution_count": 8,
   "id": "3a0c740b",
   "metadata": {
    "execution": {
     "iopub.execute_input": "2024-12-16T14:21:16.139553Z",
     "iopub.status.busy": "2024-12-16T14:21:16.139270Z",
     "iopub.status.idle": "2024-12-16T14:21:16.148060Z",
     "shell.execute_reply": "2024-12-16T14:21:16.147146Z"
    },
    "papermill": {
     "duration": 0.015211,
     "end_time": "2024-12-16T14:21:16.149719",
     "exception": false,
     "start_time": "2024-12-16T14:21:16.134508",
     "status": "completed"
    },
    "tags": []
   },
   "outputs": [
    {
     "name": "stdout",
     "output_type": "stream",
     "text": [
      "<class 'pandas.core.frame.DataFrame'>\n",
      "RangeIndex: 660 entries, 0 to 659\n",
      "Data columns (total 5 columns):\n",
      " #   Column               Non-Null Count  Dtype\n",
      "---  ------               --------------  -----\n",
      " 0   Avg_Credit_Limit     660 non-null    int64\n",
      " 1   Total_Credit_Cards   660 non-null    int64\n",
      " 2   Total_visits_bank    660 non-null    int64\n",
      " 3   Total_visits_online  660 non-null    int64\n",
      " 4   Total_calls_made     660 non-null    int64\n",
      "dtypes: int64(5)\n",
      "memory usage: 25.9 KB\n"
     ]
    }
   ],
   "source": [
    "features = df.drop(columns = ['Sl_No', 'Customer Key'])\n",
    "features.info()"
   ]
  },
  {
   "cell_type": "markdown",
   "id": "7ec047a3",
   "metadata": {
    "papermill": {
     "duration": 0.003951,
     "end_time": "2024-12-16T14:21:16.157933",
     "exception": false,
     "start_time": "2024-12-16T14:21:16.153982",
     "status": "completed"
    },
    "tags": []
   },
   "source": [
    "### Normalization"
   ]
  },
  {
   "cell_type": "code",
   "execution_count": 9,
   "id": "4715c485",
   "metadata": {
    "execution": {
     "iopub.execute_input": "2024-12-16T14:21:16.167049Z",
     "iopub.status.busy": "2024-12-16T14:21:16.166813Z",
     "iopub.status.idle": "2024-12-16T14:21:16.185807Z",
     "shell.execute_reply": "2024-12-16T14:21:16.185074Z"
    },
    "papermill": {
     "duration": 0.025326,
     "end_time": "2024-12-16T14:21:16.187346",
     "exception": false,
     "start_time": "2024-12-16T14:21:16.162020",
     "status": "completed"
    },
    "tags": []
   },
   "outputs": [
    {
     "data": {
      "text/html": [
       "<div>\n",
       "<style scoped>\n",
       "    .dataframe tbody tr th:only-of-type {\n",
       "        vertical-align: middle;\n",
       "    }\n",
       "\n",
       "    .dataframe tbody tr th {\n",
       "        vertical-align: top;\n",
       "    }\n",
       "\n",
       "    .dataframe thead th {\n",
       "        text-align: right;\n",
       "    }\n",
       "</style>\n",
       "<table border=\"1\" class=\"dataframe\">\n",
       "  <thead>\n",
       "    <tr style=\"text-align: right;\">\n",
       "      <th></th>\n",
       "      <th>Avg_Credit_Limit</th>\n",
       "      <th>Total_Credit_Cards</th>\n",
       "      <th>Total_visits_bank</th>\n",
       "      <th>Total_visits_online</th>\n",
       "      <th>Total_calls_made</th>\n",
       "    </tr>\n",
       "  </thead>\n",
       "  <tbody>\n",
       "    <tr>\n",
       "      <th>count</th>\n",
       "      <td>660.000000</td>\n",
       "      <td>660.000000</td>\n",
       "      <td>660.000000</td>\n",
       "      <td>660.000000</td>\n",
       "      <td>660.000000</td>\n",
       "    </tr>\n",
       "    <tr>\n",
       "      <th>mean</th>\n",
       "      <td>0.160275</td>\n",
       "      <td>0.411785</td>\n",
       "      <td>0.480606</td>\n",
       "      <td>0.173737</td>\n",
       "      <td>0.358333</td>\n",
       "    </tr>\n",
       "    <tr>\n",
       "      <th>std</th>\n",
       "      <td>0.190992</td>\n",
       "      <td>0.240871</td>\n",
       "      <td>0.326363</td>\n",
       "      <td>0.195715</td>\n",
       "      <td>0.286532</td>\n",
       "    </tr>\n",
       "    <tr>\n",
       "      <th>min</th>\n",
       "      <td>0.000000</td>\n",
       "      <td>0.000000</td>\n",
       "      <td>0.000000</td>\n",
       "      <td>0.000000</td>\n",
       "      <td>0.000000</td>\n",
       "    </tr>\n",
       "    <tr>\n",
       "      <th>25%</th>\n",
       "      <td>0.035533</td>\n",
       "      <td>0.222222</td>\n",
       "      <td>0.200000</td>\n",
       "      <td>0.066667</td>\n",
       "      <td>0.100000</td>\n",
       "    </tr>\n",
       "    <tr>\n",
       "      <th>50%</th>\n",
       "      <td>0.076142</td>\n",
       "      <td>0.444444</td>\n",
       "      <td>0.400000</td>\n",
       "      <td>0.133333</td>\n",
       "      <td>0.300000</td>\n",
       "    </tr>\n",
       "    <tr>\n",
       "      <th>75%</th>\n",
       "      <td>0.228426</td>\n",
       "      <td>0.555556</td>\n",
       "      <td>0.800000</td>\n",
       "      <td>0.266667</td>\n",
       "      <td>0.500000</td>\n",
       "    </tr>\n",
       "    <tr>\n",
       "      <th>max</th>\n",
       "      <td>1.000000</td>\n",
       "      <td>1.000000</td>\n",
       "      <td>1.000000</td>\n",
       "      <td>1.000000</td>\n",
       "      <td>1.000000</td>\n",
       "    </tr>\n",
       "  </tbody>\n",
       "</table>\n",
       "</div>"
      ],
      "text/plain": [
       "       Avg_Credit_Limit  Total_Credit_Cards  Total_visits_bank  \\\n",
       "count        660.000000          660.000000         660.000000   \n",
       "mean           0.160275            0.411785           0.480606   \n",
       "std            0.190992            0.240871           0.326363   \n",
       "min            0.000000            0.000000           0.000000   \n",
       "25%            0.035533            0.222222           0.200000   \n",
       "50%            0.076142            0.444444           0.400000   \n",
       "75%            0.228426            0.555556           0.800000   \n",
       "max            1.000000            1.000000           1.000000   \n",
       "\n",
       "       Total_visits_online  Total_calls_made  \n",
       "count           660.000000        660.000000  \n",
       "mean              0.173737          0.358333  \n",
       "std               0.195715          0.286532  \n",
       "min               0.000000          0.000000  \n",
       "25%               0.066667          0.100000  \n",
       "50%               0.133333          0.300000  \n",
       "75%               0.266667          0.500000  \n",
       "max               1.000000          1.000000  "
      ]
     },
     "execution_count": 9,
     "metadata": {},
     "output_type": "execute_result"
    }
   ],
   "source": [
    "mms = MinMaxScaler()\n",
    "scaled_features = mms.fit_transform(features)\n",
    "\n",
    "scaled_features_df = pd.DataFrame(scaled_features, columns=features.columns)\n",
    "scaled_features_df.describe()"
   ]
  },
  {
   "cell_type": "markdown",
   "id": "5b6305a9",
   "metadata": {
    "papermill": {
     "duration": 0.004322,
     "end_time": "2024-12-16T14:21:16.196006",
     "exception": false,
     "start_time": "2024-12-16T14:21:16.191684",
     "status": "completed"
    },
    "tags": []
   },
   "source": [
    "## Model Building"
   ]
  },
  {
   "cell_type": "markdown",
   "id": "faaea8f2",
   "metadata": {
    "papermill": {
     "duration": 0.004091,
     "end_time": "2024-12-16T14:21:16.204417",
     "exception": false,
     "start_time": "2024-12-16T14:21:16.200326",
     "status": "completed"
    },
    "tags": []
   },
   "source": [
    "### Mencari nilai banyak C terbaik"
   ]
  },
  {
   "cell_type": "code",
   "execution_count": 10,
   "id": "dca2dba0",
   "metadata": {
    "execution": {
     "iopub.execute_input": "2024-12-16T14:21:16.213968Z",
     "iopub.status.busy": "2024-12-16T14:21:16.213714Z",
     "iopub.status.idle": "2024-12-16T14:21:17.030989Z",
     "shell.execute_reply": "2024-12-16T14:21:17.029949Z"
    },
    "papermill": {
     "duration": 0.824679,
     "end_time": "2024-12-16T14:21:17.033392",
     "exception": false,
     "start_time": "2024-12-16T14:21:16.208713",
     "status": "completed"
    },
    "tags": []
   },
   "outputs": [
    {
     "data": {
      "image/png": "[encoded data removed]",
      "text/plain": [
       "<Figure size 1500x500 with 3 Axes>"
      ]
     },
     "metadata": {},
     "output_type": "display_data"
    },
    {
     "name": "stdout",
     "output_type": "stream",
     "text": [
      "Jumlah cluster terbaik berdasarkan FPC: 2\n",
      "Jumlah cluster terbaik berdasarkan PE: 2\n",
      "Jumlah cluster terbaik berdasarkan XB: 8\n"
     ]
    }
   ],
   "source": [
    "# Rentang jumlah cluster yang akan diuji\n",
    "cluster_range = range(2, 10)  # Misal uji untuk 2 hingga 10 cluster\n",
    "m = 2.0  # Fuzziness parameter\n",
    "\n",
    "# Variabel untuk menyimpan metrik evaluasi\n",
    "fpc_values = []\n",
    "pe_values = []\n",
    "xb_values = []\n",
    "\n",
    "# Iterasi untuk setiap jumlah cluster\n",
    "for c in cluster_range:\n",
    "    cntr, u, u0, d, jm, p, fpc = skfuzzy.cluster.cmeans(\n",
    "        scaled_features.T, c=c, m=m, error=0.01, maxiter=1000, init=None\n",
    "    )\n",
    "    \n",
    "    fpc_values.append(fpc)\n",
    "    \n",
    "    # Hitung Partition Entropy (PE)\n",
    "    pe = -np.sum(u * np.log(u)) / scaled_features.shape[0]\n",
    "    pe_values.append(pe)\n",
    "\n",
    "    # Hitung Xie-Beni Index (XB)\n",
    "    cluster_distances = np.linalg.norm(scaled_features[:, np.newaxis, :] - cntr, axis=2)**2\n",
    "    min_distances = np.min(cluster_distances, axis=1)\n",
    "    xb = np.sum(np.sum(u**2, axis=0) * min_distances) / (scaled_features.shape[0] * np.min(cluster_distances))\n",
    "    xb_values.append(xb)\n",
    "\n",
    "# Tentukan jumlah cluster terbaik untuk setiap metrik\n",
    "optimal_fpc = cluster_range[np.argmax(fpc_values)]\n",
    "optimal_pe = cluster_range[np.argmin(pe_values)]\n",
    "optimal_xb = cluster_range[np.argmin(xb_values)]\n",
    "\n",
    "# Visualisasi hasil\n",
    "plt.figure(figsize=(15, 5))\n",
    "\n",
    "# Plot FPC\n",
    "plt.subplot(1, 3, 1)\n",
    "plt.plot(cluster_range, fpc_values, marker='o', linestyle='-', color='b')\n",
    "plt.title(\"FPC vs Jumlah Cluster\")\n",
    "plt.xlabel(\"Number of Clusters\")\n",
    "plt.ylabel(\"FPC\")\n",
    "plt.grid(True)\n",
    "\n",
    "# Plot PE\n",
    "plt.subplot(1, 3, 2)\n",
    "plt.plot(cluster_range, pe_values, marker='o', linestyle='-', color='r')\n",
    "plt.title(\"Partition Entropy vs Jumlah Cluster\")\n",
    "plt.xlabel(\"Number of Clusters\")\n",
    "plt.ylabel(\"Partition Entropy (PE)\")\n",
    "plt.grid(True)\n",
    "\n",
    "# Plot XB\n",
    "plt.subplot(1, 3, 3)\n",
    "plt.plot(cluster_range, xb_values, marker='o', linestyle='-', color='g')\n",
    "plt.title(\"Xie-Beni Index vs Jumlah Cluster\")\n",
    "plt.xlabel(\"Number of Clusters\")\n",
    "plt.ylabel(\"Xie-Beni Index (XB)\")\n",
    "plt.grid(True)\n",
    "\n",
    "plt.tight_layout()\n",
    "plt.show()\n",
    "\n",
    "print(f\"Jumlah cluster terbaik berdasarkan FPC: {optimal_fpc}\")\n",
    "print(f\"Jumlah cluster terbaik berdasarkan PE: {optimal_pe}\")\n",
    "print(f\"Jumlah cluster terbaik berdasarkan XB: {optimal_xb}\")"
   ]
  },
  {
   "cell_type": "markdown",
   "id": "07e0f835",
   "metadata": {
    "papermill": {
     "duration": 0.009064,
     "end_time": "2024-12-16T14:21:17.050859",
     "exception": false,
     "start_time": "2024-12-16T14:21:17.041795",
     "status": "completed"
    },
    "tags": []
   },
   "source": [
    "## Clustering"
   ]
  },
  {
   "cell_type": "code",
   "execution_count": 11,
   "id": "7b9dedcc",
   "metadata": {
    "execution": {
     "iopub.execute_input": "2024-12-16T14:21:17.063143Z",
     "iopub.status.busy": "2024-12-16T14:21:17.062882Z",
     "iopub.status.idle": "2024-12-16T14:21:17.066366Z",
     "shell.execute_reply": "2024-12-16T14:21:17.065583Z"
    },
    "papermill": {
     "duration": 0.011399,
     "end_time": "2024-12-16T14:21:17.068066",
     "exception": false,
     "start_time": "2024-12-16T14:21:17.056667",
     "status": "completed"
    },
    "tags": []
   },
   "outputs": [],
   "source": [
    "optimal_c = 2"
   ]
  },
  {
   "cell_type": "code",
   "execution_count": 12,
   "id": "f3ecc313",
   "metadata": {
    "execution": {
     "iopub.execute_input": "2024-12-16T14:21:17.080122Z",
     "iopub.status.busy": "2024-12-16T14:21:17.079870Z",
     "iopub.status.idle": "2024-12-16T14:21:17.092297Z",
     "shell.execute_reply": "2024-12-16T14:21:17.091736Z"
    },
    "papermill": {
     "duration": 0.020361,
     "end_time": "2024-12-16T14:21:17.093868",
     "exception": false,
     "start_time": "2024-12-16T14:21:17.073507",
     "status": "completed"
    },
    "tags": []
   },
   "outputs": [],
   "source": [
    "cntr, u, u0, d, jm, p, fpc = skfuzzy.cluster.cmeans(\n",
    "    scaled_features_df.T, c=optimal_c, m=2, error=0.005, maxiter=1000, init=None\n",
    ")"
   ]
  },
  {
   "cell_type": "markdown",
   "id": "3b6288c0",
   "metadata": {
    "papermill": {
     "duration": 0.005226,
     "end_time": "2024-12-16T14:21:17.104385",
     "exception": false,
     "start_time": "2024-12-16T14:21:17.099159",
     "status": "completed"
    },
    "tags": []
   },
   "source": [
    "## Reduksi Dimensi dengan PCA untuk visualisasi"
   ]
  },
  {
   "cell_type": "code",
   "execution_count": 13,
   "id": "544d85a2",
   "metadata": {
    "execution": {
     "iopub.execute_input": "2024-12-16T14:21:17.116011Z",
     "iopub.status.busy": "2024-12-16T14:21:17.115763Z",
     "iopub.status.idle": "2024-12-16T14:21:17.288186Z",
     "shell.execute_reply": "2024-12-16T14:21:17.287365Z"
    },
    "papermill": {
     "duration": 0.180103,
     "end_time": "2024-12-16T14:21:17.289797",
     "exception": false,
     "start_time": "2024-12-16T14:21:17.109694",
     "status": "completed"
    },
    "tags": []
   },
   "outputs": [
    {
     "data": {
      "image/png": "[encoded data removed]",
      "text/plain": [
       "<Figure size 640x480 with 1 Axes>"
      ]
     },
     "metadata": {},
     "output_type": "display_data"
    }
   ],
   "source": [
    "# 2. PCA untuk Reduksi Dimensi\n",
    "pca = PCA(n_components=3)\n",
    "data_2d = pca.fit_transform(scaled_features_df)\n",
    "\n",
    "# Visualisasikan hasil clustering\n",
    "plt.scatter(data_2d[:, 0], data_2d[:, 1], c=np.argmax(u, axis=0))\n",
    "plt.show()"
   ]
  },
  {
   "cell_type": "code",
   "execution_count": 14,
   "id": "2139fe68",
   "metadata": {
    "execution": {
     "iopub.execute_input": "2024-12-16T14:21:17.303589Z",
     "iopub.status.busy": "2024-12-16T14:21:17.303299Z",
     "iopub.status.idle": "2024-12-16T14:21:17.307426Z",
     "shell.execute_reply": "2024-12-16T14:21:17.306573Z"
    },
    "papermill": {
     "duration": 0.012653,
     "end_time": "2024-12-16T14:21:17.309085",
     "exception": false,
     "start_time": "2024-12-16T14:21:17.296432",
     "status": "completed"
    },
    "tags": []
   },
   "outputs": [
    {
     "name": "stdout",
     "output_type": "stream",
     "text": [
      "Final Partition Coefficient: 0.7572242197439782\n"
     ]
    }
   ],
   "source": [
    "print(f\"Final Partition Coefficient: {fpc}\")"
   ]
  }
 ],
 "metadata": {
  "kaggle": {
   "accelerator": "nvidiaTeslaT4",
   "dataSources": [
    {
     "datasetId": 1341834,
     "sourceId": 2233567,
     "sourceType": "datasetVersion"
    }
   ],
   "dockerImageVersionId": 30805,
   "isGpuEnabled": true,
   "isInternetEnabled": true,
   "language": "python",
   "sourceType": "notebook"
  },
  "kernelspec": {
   "display_name": "Python 3",
   "language": "python",
   "name": "python3"
  },
  "language_info": {
   "codemirror_mode": {
    "name": "ipython",
    "version": 3
   },
   "file_extension": ".py",
   "mimetype": "text/x-python",
   "name": "python",
   "nbconvert_exporter": "python",
   "pygments_lexer": "ipython3",
   "version": "3.10.14"
  },
  "papermill": {
   "default_parameters": {},
   "duration": 15.365959,
   "end_time": "2024-12-16T14:21:17.734033",
   "environment_variables": {},
   "exception": null,
   "input_path": "__notebook__.ipynb",
   "output_path": "__notebook__.ipynb",
   "parameters": {},
   "start_time": "2024-12-16T14:21:02.368074",
   "version": "2.6.0"
  }
 },
 "nbformat": 4,
 "nbformat_minor": 5
}
